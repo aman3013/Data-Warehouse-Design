{
 "cells": [
  {
   "cell_type": "code",
   "execution_count": 3,
   "metadata": {},
   "outputs": [],
   "source": [
    "import sys\n",
    "import os\n",
    "sys.path.append(os.path.abspath(os.path.join('../scripts')))\n"
   ]
  },
  {
   "cell_type": "code",
   "execution_count": 4,
   "metadata": {},
   "outputs": [],
   "source": [
    "#import your database functions\n",
    "from data_loading import load_data_using_sqlalchemy, insert_csv_to_db"
   ]
  },
  {
   "cell_type": "code",
   "execution_count": 10,
   "metadata": {},
   "outputs": [],
   "source": [
    "# Insert CSV into the database\n",
    "csv_file_path = '../data/cleaned_merged_data.csv'  # Replace with your CSV file path\n",
    "table_name = 'medical_data'   "
   ]
  },
  {
   "cell_type": "code",
   "execution_count": 11,
   "metadata": {},
   "outputs": [
    {
     "name": "stdout",
     "output_type": "stream",
     "text": [
      "Data from ../data/cleaned_merged_data.csv inserted into the medical_data table successfully.\n"
     ]
    }
   ],
   "source": [
    "# Call the function to insert the data\n",
    "insert_csv_to_db(csv_file_path, table_name)"
   ]
  },
  {
   "cell_type": "code",
   "execution_count": 9,
   "metadata": {},
   "outputs": [
    {
     "data": {
      "text/html": [
       "<div>\n",
       "<style scoped>\n",
       "    .dataframe tbody tr th:only-of-type {\n",
       "        vertical-align: middle;\n",
       "    }\n",
       "\n",
       "    .dataframe tbody tr th {\n",
       "        vertical-align: top;\n",
       "    }\n",
       "\n",
       "    .dataframe thead th {\n",
       "        text-align: right;\n",
       "    }\n",
       "</style>\n",
       "<table border=\"1\" class=\"dataframe\">\n",
       "  <thead>\n",
       "    <tr style=\"text-align: right;\">\n",
       "      <th></th>\n",
       "      <th>Channel Title</th>\n",
       "      <th>Channel Username</th>\n",
       "      <th>ID</th>\n",
       "      <th>Message</th>\n",
       "      <th>Date</th>\n",
       "      <th>Media Path</th>\n",
       "    </tr>\n",
       "  </thead>\n",
       "  <tbody>\n",
       "    <tr>\n",
       "      <th>0</th>\n",
       "      <td>Doctors Ethiopia</td>\n",
       "      <td>@DoctorsET</td>\n",
       "      <td>1</td>\n",
       "      <td>None</td>\n",
       "      <td>2019-03-30 18:58:34+00:00</td>\n",
       "      <td>None</td>\n",
       "    </tr>\n",
       "    <tr>\n",
       "      <th>1</th>\n",
       "      <td>Doctors Ethiopia</td>\n",
       "      <td>@DoctorsET</td>\n",
       "      <td>3</td>\n",
       "      <td>DoctorsEthiopia on LTV</td>\n",
       "      <td>2019-04-20 22:32:49+00:00</td>\n",
       "      <td>photos\\@DoctorsET_3.jpg</td>\n",
       "    </tr>\n",
       "    <tr>\n",
       "      <th>2</th>\n",
       "      <td>Doctors Ethiopia</td>\n",
       "      <td>@DoctorsET</td>\n",
       "      <td>5</td>\n",
       "      <td>Production crew!\\nDoctorsEthiopia</td>\n",
       "      <td>2019-04-21 06:44:30+00:00</td>\n",
       "      <td>photos\\@DoctorsET_5.jpg</td>\n",
       "    </tr>\n",
       "    <tr>\n",
       "      <th>3</th>\n",
       "      <td>Doctors Ethiopia</td>\n",
       "      <td>@DoctorsET</td>\n",
       "      <td>6</td>\n",
       "      <td>None</td>\n",
       "      <td>2019-04-21 17:34:18+00:00</td>\n",
       "      <td>photos\\@DoctorsET_6.jpg</td>\n",
       "    </tr>\n",
       "    <tr>\n",
       "      <th>4</th>\n",
       "      <td>Doctors Ethiopia</td>\n",
       "      <td>@DoctorsET</td>\n",
       "      <td>7</td>\n",
       "      <td>ማይግሬንን እንዴት ልከላከል?\\nማይግሬን የማይድን በሽታ ቢሆንም የሚከሰት...</td>\n",
       "      <td>2019-04-21 17:37:45+00:00</td>\n",
       "      <td>None</td>\n",
       "    </tr>\n",
       "  </tbody>\n",
       "</table>\n",
       "</div>"
      ],
      "text/plain": [
       "      Channel Title Channel Username  ID  \\\n",
       "0  Doctors Ethiopia       @DoctorsET   1   \n",
       "1  Doctors Ethiopia       @DoctorsET   3   \n",
       "2  Doctors Ethiopia       @DoctorsET   5   \n",
       "3  Doctors Ethiopia       @DoctorsET   6   \n",
       "4  Doctors Ethiopia       @DoctorsET   7   \n",
       "\n",
       "                                             Message  \\\n",
       "0                                               None   \n",
       "1                             DoctorsEthiopia on LTV   \n",
       "2                  Production crew!\\nDoctorsEthiopia   \n",
       "3                                               None   \n",
       "4  ማይግሬንን እንዴት ልከላከል?\\nማይግሬን የማይድን በሽታ ቢሆንም የሚከሰት...   \n",
       "\n",
       "                        Date               Media Path  \n",
       "0  2019-03-30 18:58:34+00:00                     None  \n",
       "1  2019-04-20 22:32:49+00:00  photos\\@DoctorsET_3.jpg  \n",
       "2  2019-04-21 06:44:30+00:00  photos\\@DoctorsET_5.jpg  \n",
       "3  2019-04-21 17:34:18+00:00  photos\\@DoctorsET_6.jpg  \n",
       "4  2019-04-21 17:37:45+00:00                     None  "
      ]
     },
     "execution_count": 9,
     "metadata": {},
     "output_type": "execute_result"
    }
   ],
   "source": [
    "# Load data using a query (example query)\n",
    "query = 'SELECT * FROM medical_data LIMIT 10;'\n",
    "df = load_data_using_sqlalchemy(query)\n",
    "df.head()\n"
   ]
  }
 ],
 "metadata": {
  "kernelspec": {
   "display_name": ".venv",
   "language": "python",
   "name": "python3"
  },
  "language_info": {
   "codemirror_mode": {
    "name": "ipython",
    "version": 3
   },
   "file_extension": ".py",
   "mimetype": "text/x-python",
   "name": "python",
   "nbconvert_exporter": "python",
   "pygments_lexer": "ipython3",
   "version": "3.12.3"
  }
 },
 "nbformat": 4,
 "nbformat_minor": 2
}
